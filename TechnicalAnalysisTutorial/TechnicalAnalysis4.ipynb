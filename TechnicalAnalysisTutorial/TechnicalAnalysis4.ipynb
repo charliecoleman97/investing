{
 "cells": [
  {
   "cell_type": "code",
   "execution_count": 3,
   "metadata": {},
   "outputs": [
    {
     "data": {
      "text/html": [
       "        <script type=\"text/javascript\">\n",
       "        window.PlotlyConfig = {MathJaxConfig: 'local'};\n",
       "        if (window.MathJax) {MathJax.Hub.Config({SVG: {font: \"STIX-Web\"}});}\n",
       "        if (typeof require !== 'undefined') {\n",
       "        require.undef(\"plotly\");\n",
       "        requirejs.config({\n",
       "            paths: {\n",
       "                'plotly': ['https://cdn.plot.ly/plotly-2.2.0.min']\n",
       "            }\n",
       "        });\n",
       "        require(['plotly'], function(Plotly) {\n",
       "            window._Plotly = Plotly;\n",
       "        });\n",
       "        }\n",
       "        </script>\n",
       "        "
      ]
     },
     "metadata": {},
     "output_type": "display_data"
    },
    {
     "data": {
      "text/html": [
       "        <script type=\"text/javascript\">\n",
       "        window.PlotlyConfig = {MathJaxConfig: 'local'};\n",
       "        if (window.MathJax) {MathJax.Hub.Config({SVG: {font: \"STIX-Web\"}});}\n",
       "        if (typeof require !== 'undefined') {\n",
       "        require.undef(\"plotly\");\n",
       "        requirejs.config({\n",
       "            paths: {\n",
       "                'plotly': ['https://cdn.plot.ly/plotly-2.2.0.min']\n",
       "            }\n",
       "        });\n",
       "        require(['plotly'], function(Plotly) {\n",
       "            window._Plotly = Plotly;\n",
       "        });\n",
       "        }\n",
       "        </script>\n",
       "        "
      ]
     },
     "metadata": {},
     "output_type": "display_data"
    }
   ],
   "source": [
    "# Provides ways to work with large multidimensional arrays\n",
    "import numpy as np \n",
    "# Allows for further data manipulation and analysis\n",
    "import pandas as pd\n",
    "\n",
    "# In Anaconda -> Environments -> Not Installed -> pandas-datareader -> Apply\n",
    "from pandas_datareader import data as web # Reads stock data \n",
    "import matplotlib.pyplot as plt # Plotting\n",
    "import matplotlib.dates as mdates # Styling dates\n",
    "%matplotlib inline\n",
    "\n",
    "import cufflinks as cf\n",
    "import plotly.express as px\n",
    "import plotly.graph_objects as go\n",
    "\n",
    "# Make Plotly work in your Jupyter Notebook\n",
    "from plotly.offline import download_plotlyjs, init_notebook_mode, plot, iplot\n",
    "init_notebook_mode(connected=True)\n",
    "# Use Plotly locally\n",
    "cf.go_offline()\n",
    "\n",
    "import warnings\n",
    "warnings.simplefilter(\"ignore\")\n",
    "\n",
    "# pip install yfinance in Qt Console or Powershell Prompt on Windows\n",
    "import yfinance as yf\n",
    "\n",
    "from plotly.subplots import make_subplots\n",
    "\n",
    "# Install the Python Technical Analysis library\n",
    "# pip install ta in Qt Console or Powershell prompt\n",
    "from ta.trend import MACD\n",
    "from ta.momentum import StochasticOscillator\n",
    "\n",
    "# TA-Lib is used by traders to perform technical analysis\n",
    "# Go here : https://github.com/mrjbq7/ta-lib#dependencies\n",
    "import talib as ta"
   ]
  },
  {
   "cell_type": "markdown",
   "metadata": {},
   "source": [
    "## Ichimoku Kinko Hyo\n",
    "The Ichimoku (One Look) is considered an all in one indicator. It provides information on momentum, support and resistance. It is made up of 5 lines. If you are a short term trader you create 1 minute or 6 hour. Long term traders focus on day or weekly data.\n",
    "\n",
    "- Conversion Line (Tenkan-sen) : Represents support, resistance and reversals. Used to measure short term trends.\n",
    "- Baseline (Kijun-sen) : Represents support, resistance and confirms trend changes. Allows you to evaluate the strength of medium term trends. Called the baseline because it lags the price.\n",
    "- Leading Span A (Senkou A) : Used to identify future areas of support and resistance\n",
    "- Leading Span B (Senkou B) : Other line used to identify suture support and resistance\n",
    "- Lagging Span (Chikou) : Shows possible support and resistance. It is used to confirm signals obtained from other lines.\n",
    "- Cloud (Kumo) : Space between Span A and B. Represents the divergence in price evolution.\n",
    "\n",
    "Formulas\n",
    "- Lagging Span = Price shifted back 26 periods\n",
    "- Base Line = (Highest Value in period + Lowest value in period)/2 (26 Sessions)\n",
    "- Conversion Line = (Highest Value in period + Lowest value in period)/2 (9 Sessions)\n",
    "- Leading Span A = (Conversion Value + Base Value)/2 (26 Sessions)\n",
    "- Leading Span B = (Conversion Value + Base Value)/2 (52 Sessions)"
   ]
  },
  {
   "cell_type": "markdown",
   "metadata": {},
   "source": [
    "## What the Lines Mean\n",
    "- Lagging Span : When above the price it is bullish and when below bearish. It is used with other indicators because it is mainly a filter.\n",
    "- Baseline : When below price this is considered support. When above price this is considered resistance. We are in an uptrend when the slope increases and vice versa. The slope of the curve tells us the strength of the trend.\n",
    "- Conversion : We focus on its position versus the Baseline. When the Conversion crosses above the Baseline we are in an upward trend and vice versa. This is considered a strong indicator when above the Cloud and weak when below.\n",
    "- Cloud : The thicker the Cloud, the stronger the trend and vice versa. When the Spans cross many times we are in a range. When they cross this is a sign of a reversal of trend.\n",
    "\n",
    "1. Lagging span is bullish AMD till October 27th which is our last reading. Trending down though.\n",
    "2. The baseline is showing a strong support and has a great upward slope\n",
    "3. The Conversion is above the Baseline and the cloud which are great bullish trends\n",
    "4. On November 25th the Cloud crossed into the red signaling a reversal in trend (Bearish) but then turned bullish again November 26th"
   ]
  },
  {
   "cell_type": "code",
   "execution_count": 10,
   "metadata": {},
   "outputs": [
    {
     "ename": "ModuleNotFoundError",
     "evalue": "No module named 'functions_modules'",
     "output_type": "error",
     "traceback": [
      "\u001b[0;31m---------------------------------------------------------------------------\u001b[0m",
      "\u001b[0;31mModuleNotFoundError\u001b[0m                       Traceback (most recent call last)",
      "\u001b[1;32m/Users/charlie/Documents/Git/charlie/investing/TechnicalAnalysisTutorial/TechnicalAnalysis4.ipynb Cell 4'\u001b[0m in \u001b[0;36m<module>\u001b[0;34m\u001b[0m\n\u001b[1;32m      <a href='vscode-notebook-cell:/Users/charlie/Documents/Git/charlie/investing/TechnicalAnalysisTutorial/TechnicalAnalysis4.ipynb#ch0000003?line=2'>3</a>\u001b[0m sys\u001b[39m.\u001b[39mpath\u001b[39m.\u001b[39mappend(\u001b[39m'\u001b[39m\u001b[39m/Users/charlie/Documents/Git/charlie/investing/functions_modules\u001b[39m\u001b[39m'\u001b[39m)\n\u001b[1;32m      <a href='vscode-notebook-cell:/Users/charlie/Documents/Git/charlie/investing/TechnicalAnalysisTutorial/TechnicalAnalysis4.ipynb#ch0000003?line=4'>5</a>\u001b[0m \u001b[39m# Now do your import\u001b[39;00m\n\u001b[0;32m----> <a href='vscode-notebook-cell:/Users/charlie/Documents/Git/charlie/investing/TechnicalAnalysisTutorial/TechnicalAnalysis4.ipynb#ch0000003?line=5'>6</a>\u001b[0m \u001b[39mimport\u001b[39;00m \u001b[39mfunctions_modules\u001b[39;00m\n",
      "\u001b[0;31mModuleNotFoundError\u001b[0m: No module named 'functions_modules'"
     ]
    }
   ],
   "source": [
    "# Bring your packages onto the path\n",
    "import sys, os\n",
    "sys.path.append('/Users/charlie/Documents/Git/charlie/investing/functions_modules')\n",
    "\n",
    "# Now do your import\n",
    "from functions_modules import "
   ]
  },
  {
   "cell_type": "code",
   "execution_count": 2,
   "metadata": {},
   "outputs": [
    {
     "ename": "ModuleNotFoundError",
     "evalue": "No module named 'functions'",
     "output_type": "error",
     "traceback": [
      "\u001b[0;31m---------------------------------------------------------------------------\u001b[0m",
      "\u001b[0;31mModuleNotFoundError\u001b[0m                       Traceback (most recent call last)",
      "\u001b[1;32m/Users/charlie/Documents/Git/charlie/investing/TechnicalAnalysisTutorial/TechnicalAnalysis4.ipynb Cell 5'\u001b[0m in \u001b[0;36m<module>\u001b[0;34m\u001b[0m\n\u001b[1;32m      <a href='vscode-notebook-cell:/Users/charlie/Documents/Git/charlie/investing/TechnicalAnalysisTutorial/TechnicalAnalysis4.ipynb#ch0000004?line=2'>3</a>\u001b[0m sys\u001b[39m.\u001b[39mpath\u001b[39m.\u001b[39mappend(os\u001b[39m.\u001b[39mpath\u001b[39m.\u001b[39mabspath(os\u001b[39m.\u001b[39mpath\u001b[39m.\u001b[39mjoin(\u001b[39m'\u001b[39m\u001b[39m..\u001b[39m\u001b[39m'\u001b[39m, \u001b[39m'\u001b[39m\u001b[39mfunctions\u001b[39m\u001b[39m'\u001b[39m)))\n\u001b[1;32m      <a href='vscode-notebook-cell:/Users/charlie/Documents/Git/charlie/investing/TechnicalAnalysisTutorial/TechnicalAnalysis4.ipynb#ch0000004?line=4'>5</a>\u001b[0m \u001b[39m# Now do your import\u001b[39;00m\n\u001b[0;32m----> <a href='vscode-notebook-cell:/Users/charlie/Documents/Git/charlie/investing/TechnicalAnalysisTutorial/TechnicalAnalysis4.ipynb#ch0000004?line=5'>6</a>\u001b[0m \u001b[39mfrom\u001b[39;00m \u001b[39mfunctions\u001b[39;00m\u001b[39m.\u001b[39;00m\u001b[39mfunctions_modules\u001b[39;00m \u001b[39mimport\u001b[39;00m \u001b[39m*\u001b[39m\n",
      "\u001b[0;31mModuleNotFoundError\u001b[0m: No module named 'functions'"
     ]
    }
   ],
   "source": [
    "# Bring your packages onto the path\n",
    "import sys, os\n",
    "sys.path.append(os.path.abspath(os.path.join('..', 'functions')))\n",
    "\n",
    "# Now do your import\n",
    "from functions.functions_modules import *"
   ]
  },
  {
   "cell_type": "code",
   "execution_count": null,
   "metadata": {},
   "outputs": [],
   "source": []
  }
 ],
 "metadata": {
  "interpreter": {
   "hash": "5486444823919bf5533df1e16296b0e50a26ea647816ff0bc099daecd9efa1ed"
  },
  "kernelspec": {
   "display_name": "Python 3.9.7 ('base')",
   "language": "python",
   "name": "python3"
  },
  "language_info": {
   "codemirror_mode": {
    "name": "ipython",
    "version": 3
   },
   "file_extension": ".py",
   "mimetype": "text/x-python",
   "name": "python",
   "nbconvert_exporter": "python",
   "pygments_lexer": "ipython3",
   "version": "3.9.7"
  },
  "orig_nbformat": 4
 },
 "nbformat": 4,
 "nbformat_minor": 2
}
