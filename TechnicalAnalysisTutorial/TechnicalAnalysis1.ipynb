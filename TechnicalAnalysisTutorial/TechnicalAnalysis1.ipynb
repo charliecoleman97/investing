{
 "cells": [
  {
   "cell_type": "code",
   "execution_count": 1,
   "metadata": {},
   "outputs": [
    {
     "data": {
      "text/html": [
       "        <script type=\"text/javascript\">\n",
       "        window.PlotlyConfig = {MathJaxConfig: 'local'};\n",
       "        if (window.MathJax) {MathJax.Hub.Config({SVG: {font: \"STIX-Web\"}});}\n",
       "        if (typeof require !== 'undefined') {\n",
       "        require.undef(\"plotly\");\n",
       "        requirejs.config({\n",
       "            paths: {\n",
       "                'plotly': ['https://cdn.plot.ly/plotly-2.8.3.min']\n",
       "            }\n",
       "        });\n",
       "        require(['plotly'], function(Plotly) {\n",
       "            window._Plotly = Plotly;\n",
       "        });\n",
       "        }\n",
       "        </script>\n",
       "        "
      ]
     },
     "metadata": {},
     "output_type": "display_data"
    },
    {
     "data": {
      "text/html": [
       "        <script type=\"text/javascript\">\n",
       "        window.PlotlyConfig = {MathJaxConfig: 'local'};\n",
       "        if (window.MathJax) {MathJax.Hub.Config({SVG: {font: \"STIX-Web\"}});}\n",
       "        if (typeof require !== 'undefined') {\n",
       "        require.undef(\"plotly\");\n",
       "        requirejs.config({\n",
       "            paths: {\n",
       "                'plotly': ['https://cdn.plot.ly/plotly-2.8.3.min']\n",
       "            }\n",
       "        });\n",
       "        require(['plotly'], function(Plotly) {\n",
       "            window._Plotly = Plotly;\n",
       "        });\n",
       "        }\n",
       "        </script>\n",
       "        "
      ]
     },
     "metadata": {},
     "output_type": "display_data"
    }
   ],
   "source": [
    "# Provides ways to work with large multidimensional arrays\n",
    "import numpy as np \n",
    "# Allows for further data manipulation and analysis\n",
    "import pandas as pd\n",
    "\n",
    "# In Anaconda -> Environments -> Not Installed -> pandas-datareader -> Apply\n",
    "from pandas_datareader import data as web # Reads stock data \n",
    "import matplotlib.pyplot as plt # Plotting\n",
    "import matplotlib.dates as mdates # Styling dates\n",
    "%matplotlib inline\n",
    "\n",
    "# pip install cufflinks -> In Qt Console\n",
    "import cufflinks as cf\n",
    "# pip install plotly==5.3.1 -> In Qt Console\n",
    "import plotly.express as px\n",
    "import plotly.graph_objects as go\n",
    "\n",
    "# Make Plotly work in your Jupyter Notebook\n",
    "from plotly.offline import download_plotlyjs, init_notebook_mode, plot, iplot\n",
    "init_notebook_mode(connected=True)\n",
    "# Use Plotly locally\n",
    "cf.go_offline()\n",
    "\n",
    "import warnings\n",
    "warnings.simplefilter(\"ignore\")\n",
    "\n",
    "# pip install yfinance in Qt Console or Powershell Prompt on Windows\n",
    "import yfinance as yf\n",
    "\n",
    "from plotly.subplots import make_subplots"
   ]
  },
  {
   "cell_type": "code",
   "execution_count": 2,
   "metadata": {},
   "outputs": [
    {
     "name": "stdout",
     "output_type": "stream",
     "text": [
      "[*********************100%***********************]  1 of 1 completed\n"
     ]
    },
    {
     "data": {
      "text/html": [
       "<div>\n",
       "<style scoped>\n",
       "    .dataframe tbody tr th:only-of-type {\n",
       "        vertical-align: middle;\n",
       "    }\n",
       "\n",
       "    .dataframe tbody tr th {\n",
       "        vertical-align: top;\n",
       "    }\n",
       "\n",
       "    .dataframe thead th {\n",
       "        text-align: right;\n",
       "    }\n",
       "</style>\n",
       "<table border=\"1\" class=\"dataframe\">\n",
       "  <thead>\n",
       "    <tr style=\"text-align: right;\">\n",
       "      <th></th>\n",
       "      <th>Open</th>\n",
       "      <th>High</th>\n",
       "      <th>Low</th>\n",
       "      <th>Close</th>\n",
       "      <th>Adj Close</th>\n",
       "      <th>Volume</th>\n",
       "    </tr>\n",
       "    <tr>\n",
       "      <th>Datetime</th>\n",
       "      <th></th>\n",
       "      <th></th>\n",
       "      <th></th>\n",
       "      <th></th>\n",
       "      <th></th>\n",
       "      <th></th>\n",
       "    </tr>\n",
       "  </thead>\n",
       "  <tbody>\n",
       "    <tr>\n",
       "      <th>2022-01-19 09:30:00-05:00</th>\n",
       "      <td>306.290009</td>\n",
       "      <td>307.049988</td>\n",
       "      <td>305.299988</td>\n",
       "      <td>305.940002</td>\n",
       "      <td>305.940002</td>\n",
       "      <td>1830264</td>\n",
       "    </tr>\n",
       "    <tr>\n",
       "      <th>2022-01-19 09:35:00-05:00</th>\n",
       "      <td>305.890015</td>\n",
       "      <td>310.100006</td>\n",
       "      <td>305.609985</td>\n",
       "      <td>309.779999</td>\n",
       "      <td>309.779999</td>\n",
       "      <td>1345963</td>\n",
       "    </tr>\n",
       "    <tr>\n",
       "      <th>2022-01-19 09:40:00-05:00</th>\n",
       "      <td>309.799988</td>\n",
       "      <td>309.959991</td>\n",
       "      <td>308.709991</td>\n",
       "      <td>309.734894</td>\n",
       "      <td>309.734894</td>\n",
       "      <td>1012492</td>\n",
       "    </tr>\n",
       "    <tr>\n",
       "      <th>2022-01-19 09:45:00-05:00</th>\n",
       "      <td>309.730011</td>\n",
       "      <td>312.119995</td>\n",
       "      <td>309.380005</td>\n",
       "      <td>312.059906</td>\n",
       "      <td>312.059906</td>\n",
       "      <td>1551396</td>\n",
       "    </tr>\n",
       "    <tr>\n",
       "      <th>2022-01-19 09:50:00-05:00</th>\n",
       "      <td>312.029999</td>\n",
       "      <td>313.279999</td>\n",
       "      <td>311.739990</td>\n",
       "      <td>312.640015</td>\n",
       "      <td>312.640015</td>\n",
       "      <td>1469688</td>\n",
       "    </tr>\n",
       "    <tr>\n",
       "      <th>...</th>\n",
       "      <td>...</td>\n",
       "      <td>...</td>\n",
       "      <td>...</td>\n",
       "      <td>...</td>\n",
       "      <td>...</td>\n",
       "      <td>...</td>\n",
       "    </tr>\n",
       "    <tr>\n",
       "      <th>2022-02-18 15:35:00-05:00</th>\n",
       "      <td>287.290009</td>\n",
       "      <td>287.869995</td>\n",
       "      <td>287.170013</td>\n",
       "      <td>287.589996</td>\n",
       "      <td>287.589996</td>\n",
       "      <td>352512</td>\n",
       "    </tr>\n",
       "    <tr>\n",
       "      <th>2022-02-18 15:40:00-05:00</th>\n",
       "      <td>287.600006</td>\n",
       "      <td>288.720001</td>\n",
       "      <td>287.440002</td>\n",
       "      <td>288.510010</td>\n",
       "      <td>288.510010</td>\n",
       "      <td>483401</td>\n",
       "    </tr>\n",
       "    <tr>\n",
       "      <th>2022-02-18 15:45:00-05:00</th>\n",
       "      <td>288.529999</td>\n",
       "      <td>289.049988</td>\n",
       "      <td>287.987000</td>\n",
       "      <td>288.500000</td>\n",
       "      <td>288.500000</td>\n",
       "      <td>472198</td>\n",
       "    </tr>\n",
       "    <tr>\n",
       "      <th>2022-02-18 15:50:00-05:00</th>\n",
       "      <td>288.480011</td>\n",
       "      <td>289.019989</td>\n",
       "      <td>287.559998</td>\n",
       "      <td>287.660095</td>\n",
       "      <td>287.660095</td>\n",
       "      <td>698243</td>\n",
       "    </tr>\n",
       "    <tr>\n",
       "      <th>2022-02-18 15:55:00-05:00</th>\n",
       "      <td>287.739990</td>\n",
       "      <td>288.390015</td>\n",
       "      <td>287.484985</td>\n",
       "      <td>287.820007</td>\n",
       "      <td>287.820007</td>\n",
       "      <td>1228910</td>\n",
       "    </tr>\n",
       "  </tbody>\n",
       "</table>\n",
       "<p>1794 rows × 6 columns</p>\n",
       "</div>"
      ],
      "text/plain": [
       "                                 Open        High         Low       Close  \\\n",
       "Datetime                                                                    \n",
       "2022-01-19 09:30:00-05:00  306.290009  307.049988  305.299988  305.940002   \n",
       "2022-01-19 09:35:00-05:00  305.890015  310.100006  305.609985  309.779999   \n",
       "2022-01-19 09:40:00-05:00  309.799988  309.959991  308.709991  309.734894   \n",
       "2022-01-19 09:45:00-05:00  309.730011  312.119995  309.380005  312.059906   \n",
       "2022-01-19 09:50:00-05:00  312.029999  313.279999  311.739990  312.640015   \n",
       "...                               ...         ...         ...         ...   \n",
       "2022-02-18 15:35:00-05:00  287.290009  287.869995  287.170013  287.589996   \n",
       "2022-02-18 15:40:00-05:00  287.600006  288.720001  287.440002  288.510010   \n",
       "2022-02-18 15:45:00-05:00  288.529999  289.049988  287.987000  288.500000   \n",
       "2022-02-18 15:50:00-05:00  288.480011  289.019989  287.559998  287.660095   \n",
       "2022-02-18 15:55:00-05:00  287.739990  288.390015  287.484985  287.820007   \n",
       "\n",
       "                            Adj Close   Volume  \n",
       "Datetime                                        \n",
       "2022-01-19 09:30:00-05:00  305.940002  1830264  \n",
       "2022-01-19 09:35:00-05:00  309.779999  1345963  \n",
       "2022-01-19 09:40:00-05:00  309.734894  1012492  \n",
       "2022-01-19 09:45:00-05:00  312.059906  1551396  \n",
       "2022-01-19 09:50:00-05:00  312.640015  1469688  \n",
       "...                               ...      ...  \n",
       "2022-02-18 15:35:00-05:00  287.589996   352512  \n",
       "2022-02-18 15:40:00-05:00  288.510010   483401  \n",
       "2022-02-18 15:45:00-05:00  288.500000   472198  \n",
       "2022-02-18 15:50:00-05:00  287.660095   698243  \n",
       "2022-02-18 15:55:00-05:00  287.820007  1228910  \n",
       "\n",
       "[1794 rows x 6 columns]"
      ]
     },
     "execution_count": 2,
     "metadata": {},
     "output_type": "execute_result"
    }
   ],
   "source": [
    "# Valid periods: 1d,5d,1mo,3mo,6mo,1y,2y,5y,10y,ytd,max\n",
    "# Valid intervals: 1m,2m,5m,15m,30m,60m,90m,1h,1d,5d,1wk,1mo,3mo\n",
    "msft = yf.download(tickers='MSFT', period='1mo', interval='5m')\n",
    "msft"
   ]
  },
  {
   "cell_type": "markdown",
   "metadata": {},
   "source": [
    "## Plot a Candlestick Chart"
   ]
  },
  {
   "cell_type": "code",
   "execution_count": null,
   "metadata": {},
   "outputs": [],
   "source": [
    "x = msft.index\n",
    "close = msft['Adj Close']\n",
    "high = msft['High']\n",
    "low = msft['Low']\n",
    "openp = msft['Open']\n",
    "\n",
    "# Calculates 5 and 20 day moving average\n",
    "# Takes prices and divides them by a defined time period\n",
    "# Short periods react quickly, while longer react slower to price changes\n",
    "# They are used to see if a stock is in an uptrend\n",
    "# If a short term trend is above the longterm that is a sign an uptrend is expected\n",
    "msft['MA5'] = msft.Close.rolling(5).mean()\n",
    "msft['MA20'] = msft.Close.rolling(20).mean()\n",
    "\n",
    "# Create candlestick plot\n",
    "candles = go.Candlestick(x=x, open=openp, high=high,\n",
    "                         low=low, close=close, name=\"Candles\")\n",
    "\n",
    "# Create 5 and 20 day moving average\n",
    "ma5 = go.Scatter(x=msft.index, y=msft.MA5, \n",
    "                 line=dict(color='orange', width=1), name=\"MA5\")\n",
    "ma20 = go.Scatter(x=msft.index, y=msft.MA20, \n",
    "                  line=dict(color='green', width=1), name=\"MA20\")\n",
    "\n",
    "# Create volume bar chart\n",
    "vol = go.Bar(x=msft.index, y=msft['Volume'], name=\"Volume\")\n",
    "\n",
    "# Create figure with secondary y-axis\n",
    "fig = make_subplots(specs=[[{\"secondary_y\": True}]])\n",
    "\n",
    "# Add plots\n",
    "fig.add_trace(trace=candles, secondary_y=True)\n",
    "fig.add_trace(trace=ma5, secondary_y=True)\n",
    "fig.add_trace(trace=ma20, secondary_y=True)\n",
    "fig.add_trace(trace=vol, secondary_y=False)\n",
    "\n",
    "\n",
    "# Valid Steps : 'month', 'year', 'day', 'hour', 'minute', 'second', 'all'\n",
    "fig.update_layout(\n",
    "    xaxis=dict(\n",
    "        rangeselector=dict(\n",
    "            buttons=list([\n",
    "                dict(count=15,\n",
    "                     label=\"15M\",\n",
    "                     step=\"minute\",\n",
    "                     stepmode=\"backward\"),\n",
    "                dict(count=45,\n",
    "                     label=\"45M\",\n",
    "                     step=\"minute\",\n",
    "                     stepmode=\"backward\"),\n",
    "                dict(count=1,\n",
    "                     label=\"1HR\",\n",
    "                     step=\"hour\",\n",
    "                     stepmode=\"todate\"),\n",
    "                dict(count=1,\n",
    "                     label=\"1D\",\n",
    "                     step=\"day\",\n",
    "                     stepmode=\"todate\"),\n",
    "                dict(count=3,\n",
    "                     label=\"3D\",\n",
    "                     step=\"day\",\n",
    "                     stepmode=\"todate\"),\n",
    "                dict(count=7,\n",
    "                     label=\"1W\",\n",
    "                     step=\"day\",\n",
    "                     stepmode=\"backward\"),\n",
    "                dict(count=14,\n",
    "                     label=\"2W\",\n",
    "                     step=\"day\",\n",
    "                     stepmode=\"backward\"),\n",
    "                dict(count=1,\n",
    "                     label=\"1M\",\n",
    "                     step=\"month\",\n",
    "                     stepmode=\"backward\"),\n",
    "                dict(label=\"All\", step=\"all\")\n",
    "            ])\n",
    "        ),\n",
    "        rangeslider=dict(\n",
    "            visible=True\n",
    "        ),\n",
    "        type=\"date\"\n",
    "    )\n",
    ")\n",
    "fig.update_layout(xaxis_title=\"Dates\", yaxis_title=\"Stock Price\", \n",
    "                  title=\"Microsoft Candlestick Chart\", \n",
    "                  width=1000, height=800)\n",
    "\n",
    "# Hides plot between saturday and monday\n",
    "# Hide hours between 9:30am to 4pm\n",
    "# Hide specific days like holidays\n",
    "fig.update_xaxes(\n",
    "        rangeslider_visible=True,\n",
    "        rangebreaks=[\n",
    "            dict(bounds=[\"sat\", \"mon\"]),\n",
    "            dict(bounds=[16, 9.5], pattern=\"hour\"), \n",
    "            dict(values=[\"2020-12-25\", \"2021-01-01\", \"2021-07-04\"])\n",
    "        ]\n",
    "    )\n",
    "\n",
    "fig.show()"
   ]
  },
  {
   "cell_type": "markdown",
   "metadata": {},
   "source": [
    "## Download Multiple Stocks"
   ]
  },
  {
   "cell_type": "code",
   "execution_count": null,
   "metadata": {},
   "outputs": [],
   "source": [
    "stocks = [\"MKC\", \"NEM\", \"ODFL\"]\n",
    "stocks_df = yf.download(tickers=stocks, period='1mo', interval='5m')\n",
    "stocks_df"
   ]
  },
  {
   "cell_type": "markdown",
   "metadata": {},
   "source": [
    "## Simple Moving Average\n",
    "A SMA allows you to see the big picture when analyzing a stock. It however it takes time to catch up to current trends. This lag for a 100 day moving average would be 100/2 or 50 days. Long term moving averages can be extremely important as we'll see when we look at the Death Cross and Golden Cross.\n"
   ]
  },
  {
   "cell_type": "code",
   "execution_count": null,
   "metadata": {},
   "outputs": [],
   "source": [
    "# Download MSFT, NEM and the S&P\n",
    "msft_df = yf.download(tickers='MSFT', period='10y', interval='1d')\n",
    "msft_df"
   ]
  },
  {
   "cell_type": "code",
   "execution_count": null,
   "metadata": {},
   "outputs": [],
   "source": [
    "nem_df = yf.download(tickers='NEM', period='10y', interval='1d')\n",
    "nem_df"
   ]
  },
  {
   "cell_type": "code",
   "execution_count": null,
   "metadata": {},
   "outputs": [],
   "source": [
    "gspc_df = yf.download(tickers='^gspc', period='10y', interval='1d')\n",
    "gspc_df"
   ]
  },
  {
   "cell_type": "markdown",
   "metadata": {},
   "source": [
    "## Calculate 20 Day Moving Averages"
   ]
  },
  {
   "cell_type": "code",
   "execution_count": null,
   "metadata": {},
   "outputs": [],
   "source": [
    "msft_ma20 = msft_df['Adj Close'].rolling(window=20).mean()\n",
    "msft_ma20.tail()"
   ]
  },
  {
   "cell_type": "code",
   "execution_count": null,
   "metadata": {},
   "outputs": [],
   "source": [
    "nem_ma20 = nem_df['Adj Close'].rolling(window=20).mean()\n",
    "nem_ma20.tail()"
   ]
  },
  {
   "cell_type": "code",
   "execution_count": null,
   "metadata": {},
   "outputs": [],
   "source": [
    "gspc_ma20 = gspc_df['Adj Close'].rolling(window=20).mean()\n",
    "gspc_ma20.tail()"
   ]
  },
  {
   "cell_type": "markdown",
   "metadata": {},
   "source": [
    "## Calculate 100 Day Moving Average"
   ]
  },
  {
   "cell_type": "code",
   "execution_count": null,
   "metadata": {},
   "outputs": [],
   "source": [
    "# Allows us to study the averaged out long term trends\n",
    "msft_ma100 = msft_df['Adj Close'].rolling(window=100).mean()\n",
    "nem_ma100 = nem_df['Adj Close'].rolling(window=100).mean()\n",
    "gspc_ma100 = gspc_df['Adj Close'].rolling(window=100).mean()\n",
    "gspc_ma100.tail()"
   ]
  },
  {
   "cell_type": "markdown",
   "metadata": {},
   "source": [
    "## Plot MSFT with Moving Averages"
   ]
  },
  {
   "cell_type": "code",
   "execution_count": null,
   "metadata": {},
   "outputs": [],
   "source": [
    "ma20 = go.Scatter(x=msft_ma20.index, y=msft_ma20, \n",
    "                  line=dict(color='orange', width=1), name=\"MA20\")\n",
    "ma100 = go.Scatter(x=msft_ma100.index, y=msft_ma100, \n",
    "                   line=dict(color='green', width=1), name=\"MA100\")\n",
    "msft_prc = go.Scatter(x=msft_df.index, y=msft_df['Adj Close'], \n",
    "                      line=dict(color='blue', width=1), name=\"Price\")\n",
    "\n",
    "fig = go.Figure()\n",
    "fig.add_trace(ma20)\n",
    "fig.add_trace(ma100)\n",
    "fig.add_trace(msft_prc)\n",
    "                                              \n",
    "fig.update_xaxes(\n",
    "    rangeslider_visible=True, title='Zoom on Dates Using Slider')\n",
    "fig.update_yaxes(title=\"Stock Price (USD)\")\n",
    "fig.show()"
   ]
  },
  {
   "cell_type": "markdown",
   "metadata": {},
   "source": [
    "## Exponential Moving Average\n",
    "A EMA can be used to reduce the lag by putting more emphasis on recent price data.\n"
   ]
  },
  {
   "cell_type": "code",
   "execution_count": null,
   "metadata": {},
   "outputs": [],
   "source": [
    "# Calculate MSFTs 20 day EMA\n",
    "msft_ema20 = msft_df['Adj Close'].ewm(span=20, adjust=False).mean()\n",
    "\n",
    "ema20 = go.Scatter(x=msft_ema20.index, y=msft_ema20, \n",
    "                   line=dict(color='green', width=1), name=\"EMA20\")\n",
    "ma20 = go.Scatter(x=msft_ma20.index, y=msft_ma20, \n",
    "                  line=dict(color='orange', width=1), name=\"MA20\")\n",
    "msft_prc = go.Scatter(x=msft_df.index, y=msft_df['Adj Close'], \n",
    "                      line=dict(color='blue', width=1), name=\"Price\")\n",
    "\n",
    "fig = go.Figure()\n",
    "fig.add_trace(ma20)\n",
    "fig.add_trace(ema20)\n",
    "fig.add_trace(msft_prc)\n",
    "                                              \n",
    "fig.update_xaxes(\n",
    "    rangeslider_visible=True, title='Zoom on Dates Using Slider')\n",
    "fig.update_yaxes(title=\"Stock Price (USD)\")\n",
    "fig.show()\n",
    "\n",
    "# As you can see a trading stategy where we buy when the price \n",
    "# hits the moving average from below signals a buy and vice versa."
   ]
  },
  {
   "cell_type": "markdown",
   "metadata": {},
   "source": [
    "## Death and Golden Crosses\n",
    "When a Death Cross occurs, that is a sign that a major sell off will occur. A Death Cross is said to occur typically when the 50 day moving average falls below a 200 day. A Golden Cross accures when the short term average crosses the long term again moving higher.\n",
    "\n"
   ]
  },
  {
   "cell_type": "code",
   "execution_count": null,
   "metadata": {},
   "outputs": [],
   "source": [
    "gspc_df = yf.download(tickers='^gspc', period='max', interval='1d')\n",
    "gspc_df"
   ]
  },
  {
   "cell_type": "code",
   "execution_count": null,
   "metadata": {},
   "outputs": [],
   "source": [
    "gspc_ma50 = gspc_df['Adj Close'].rolling(window=50).mean()\n",
    "gspc_ma200 = gspc_df['Adj Close'].rolling(window=200).mean()"
   ]
  },
  {
   "cell_type": "markdown",
   "metadata": {},
   "source": [
    "## Plot S&P"
   ]
  },
  {
   "cell_type": "code",
   "execution_count": null,
   "metadata": {},
   "outputs": [],
   "source": [
    "ma50 = go.Scatter(x=gspc_ma50.index, y=gspc_ma50, \n",
    "                  line=dict(color='orange', width=1), name=\"MA50\")\n",
    "ma200 = go.Scatter(x=gspc_ma200.index, y=gspc_ma200, \n",
    "                   line=dict(color='green', width=1), name=\"MA200\")\n",
    "gspc_prc = go.Scatter(x=gspc_df.index, y=gspc_df['Adj Close'], \n",
    "                      line=dict(color='blue', width=1), name=\"Price\")\n",
    "\n",
    "fig = go.Figure()\n",
    "fig.add_trace(ma50)\n",
    "fig.add_trace(ma200)\n",
    "fig.add_trace(gspc_prc)\n",
    "                                              \n",
    "fig.update_xaxes(\n",
    "    rangeslider_visible=True, title='Zoom on Dates Using Slider')\n",
    "fig.update_yaxes(title=\"Stock Price (USD)\")\n",
    "fig.show()\n",
    "\n",
    "# You can see many examples of death & golden crosses below"
   ]
  },
  {
   "cell_type": "markdown",
   "metadata": {},
   "source": [
    "## Cufflinks Quant Figure Module"
   ]
  },
  {
   "cell_type": "code",
   "execution_count": null,
   "metadata": {},
   "outputs": [],
   "source": [
    "# add_sma - Simple Moving Average\n",
    "# add_ema() - Exponential Moving Average\n",
    "# add_trendline() - Trend line\n",
    "# add_support() - Support line\n",
    "# add_rsi - Relative Strength Indicator\n",
    "# add_adx - Average Directional Index\n",
    "# add_atr() - Average True Range\n",
    "# add_macd() - Moving Average Convergence Divergence\n",
    "# add_bollinger_bands - Bollinger Bands\n",
    "# add_volume - Volume bars\n",
    "# add_cci() - Commodity Channel Indicator\n",
    "# add_dmi() - Directional Movement Index\n",
    "# add_ptps() - Parabolic SAR\n",
    "# add_resistance() - Resistance line\n",
    "\n",
    "\n",
    "qf=cf.QuantFig(gspc_df, title='S&P 500 Data',legend='top',name='GS')\n",
    "qf.add_bollinger_bands()\n",
    "qf.add_volume()\n",
    "\n",
    "qf.iplot()"
   ]
  }
 ],
 "metadata": {
  "interpreter": {
   "hash": "86111d648a82d99ff9b0dd30c218aa29d03240e36c9a38e039482949d5672ace"
  },
  "kernelspec": {
   "display_name": "Python 3.8.12 64-bit ('invest_env': conda)",
   "language": "python",
   "name": "python3"
  },
  "language_info": {
   "codemirror_mode": {
    "name": "ipython",
    "version": 3
   },
   "file_extension": ".py",
   "mimetype": "text/x-python",
   "name": "python",
   "nbconvert_exporter": "python",
   "pygments_lexer": "ipython3",
   "version": "3.8.12"
  },
  "orig_nbformat": 4
 },
 "nbformat": 4,
 "nbformat_minor": 2
}
