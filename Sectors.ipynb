{
 "cells": [
  {
   "cell_type": "code",
   "execution_count": null,
   "metadata": {},
   "outputs": [],
   "source": [
    "# Provides ways to work with large multidimensional arrays\n",
    "import numpy as np \n",
    "# Allows for further data manipulation and analysis\n",
    "import pandas as pd \n",
    "import matplotlib.pyplot as plt # Plotting\n",
    "import matplotlib.dates as mdates # Styling dates\n",
    "%matplotlib inline\n",
    "\n",
    "# pip install numpy\n",
    "# conda install -c anaconda pandas\n",
    "# conda install -c conda-forge matplotlib\n",
    "\n",
    "import datetime as dt # For defining dates\n",
    "\n",
    "import time\n",
    "\n",
    "# In Powershell Prompt : conda install -c conda-forge multitasking\n",
    "# pip install -i https://pypi.anaconda.org/ranaroussi/simple yfinance\n",
    "\n",
    "import yfinance as yf\n",
    "\n",
    "# To show all your output File -> Preferences -> Settings Search for Notebook\n",
    "# Notebook Output Text Line Limit and set to 100\n",
    "\n",
    "# Used for file handling like deleting files\n",
    "import os\n",
    "\n",
    "# conda install -c conda-forge cufflinks-py\n",
    "# conda install -c plotly plotly\n",
    "import cufflinks as cf\n",
    "import plotly.express as px\n",
    "import plotly.graph_objects as go\n",
    "\n",
    "# Make Plotly work in your Jupyter Notebook\n",
    "from plotly.offline import download_plotlyjs, init_notebook_mode, plot, iplot\n",
    "init_notebook_mode(connected=True)\n",
    "# Use Plotly locally\n",
    "cf.go_offline()\n",
    "\n",
    "from plotly.subplots import make_subplots\n",
    "\n",
    "# New Imports\n",
    "# Used to get data from a directory\n",
    "import os\n",
    "from os import listdir\n",
    "from os.path import isfile, join\n",
    "\n",
    "import warnings\n",
    "warnings.simplefilter(\"ignore\")"
   ]
  },
  {
   "cell_type": "markdown",
   "metadata": {},
   "source": [
    "## Constants"
   ]
  },
  {
   "cell_type": "code",
   "execution_count": null,
   "metadata": {},
   "outputs": [],
   "source": [
    "# Change this to your location \n",
    "import variables\n",
    "PATH = variables.stocks\n",
    "\n",
    "# Start end date defaults\n",
    "S_DATE = \"2017-02-01\"\n",
    "E_DATE = \"2022-12-06\"\n",
    "S_DATE_DT = pd.to_datetime(S_DATE)\n",
    "E_DATE_DT = pd.to_datetime(E_DATE)"
   ]
  },
  {
   "cell_type": "markdown",
   "metadata": {},
   "source": [
    "## Get Dataframe from CSV"
   ]
  },
  {
   "cell_type": "code",
   "execution_count": null,
   "metadata": {},
   "outputs": [],
   "source": [
    "# Reads a dataframe from the CSV file, changes index to date and returns it\n",
    "def get_stock_df_from_csv(ticker):\n",
    "    \n",
    "    # Try to get the file and if it doesn't exist issue a warning\n",
    "    try:\n",
    "        df = pd.read_csv(PATH + ticker + '.csv', index_col=0)\n",
    "    except FileNotFoundError:\n",
    "        print(\"File Doesn't Exist\")\n",
    "    else:\n",
    "        return df"
   ]
  },
  {
   "cell_type": "markdown",
   "metadata": {},
   "source": [
    "## Plot Ichimoku"
   ]
  },
  {
   "cell_type": "code",
   "execution_count": 1,
   "metadata": {},
   "outputs": [],
   "source": [
    "# Used to generate the red and green fill for the Ichimoku cloud\n",
    "def get_fill_color(label):\n",
    "    if label >= 1:\n",
    "        return 'rgba(0,250,0,0.4)'\n",
    "    else:\n",
    "        return 'rgba(250,0,0,0.4)'"
   ]
  },
  {
   "cell_type": "code",
   "execution_count": null,
   "metadata": {},
   "outputs": [],
   "source": [
    "def get_Ichimoku(df):\n",
    "\n",
    "    candle = go.Candlestick(x=df.index, open=df['Open'],\n",
    "    high=df['High'], low=df[\"Low\"], close=df['Close'], name=\"Candlestick\")\n",
    "\n",
    "    df1 = df.copy()\n",
    "    fig = go.Figure()\n",
    "    df['label'] = np.where(df['SpanA'] > df['SpanB'], 1, 0)\n",
    "    df['group'] = df['label'].ne(df['label'].shift()).cumsum()\n",
    "\n",
    "    df = df.groupby('group')\n",
    "\n",
    "    dfs = []\n",
    "    for name, data in df:\n",
    "        dfs.append(data)\n",
    "\n",
    "    for df in dfs:\n",
    "        fig.add_traces(go.Scatter(x=df.index, y=df.SpanA,\n",
    "        line=dict(color='rgba(0,0,0,0)')))\n",
    "\n",
    "        fig.add_traces(go.Scatter(x=df.index, y=df.SpanB,\n",
    "        line=dict(color='rgba(0,0,0,0)'),\n",
    "        fill='tonexty',\n",
    "        fillcolor=get_fill_color(df['label'].iloc[0])))\n",
    "\n",
    "    baseline = go.Scatter(x=df1.index, y=df1['Baseline'], \n",
    "    line=dict(color='pink', width=2), name=\"Baseline\")\n",
    "\n",
    "    conversion = go.Scatter(x=df1.index, y=df1['Conversion'], \n",
    "    line=dict(color='black', width=1), name=\"Conversion\")\n",
    "\n",
    "    lagging = go.Scatter(x=df1.index, y=df1['Lagging'], \n",
    "    line=dict(color='purple', width=2), name=\"Lagging\")\n",
    "\n",
    "    span_a = go.Scatter(x=df1.index, y=df1['SpanA'], \n",
    "    line=dict(color='green', width=2, dash='dot'), name=\"Span A\")\n",
    "\n",
    "    span_b = go.Scatter(x=df1.index, y=df1['SpanB'], \n",
    "    line=dict(color='red', width=1, dash='dot'), name=\"Span B\")\n",
    "\n",
    "    fig.add_trace(candle)\n",
    "    fig.add_trace(baseline)\n",
    "    fig.add_trace(conversion)\n",
    "    fig.add_trace(lagging)\n",
    "    fig.add_trace(span_a)\n",
    "    fig.add_trace(span_b)\n",
    "    \n",
    "    fig.update_layout(height=1200, width=1800, showlegend=True)\n",
    "\n",
    "    fig.show()"
   ]
  },
  {
   "cell_type": "markdown",
   "metadata": {},
   "source": [
    "## Get Sector Stocks "
   ]
  },
  {
   "cell_type": "code",
   "execution_count": null,
   "metadata": {},
   "outputs": [],
   "source": [
    "sec_df = pd.read_csv(\"/Users/charliecoleman/Documents/investing_data/Python4Finance-main/big_stock_sectors.csv\")\n",
    "\n",
    "indus_df = sec_df.loc[sec_df[\"Sector\"] == \"Industrial\"]\n",
    "health_df = sec_df.loc[sec_df[\"Sector\"] == \"Healthcare\"]\n",
    "it_df = sec_df.loc[sec_df[\"Sector\"] == \"Information Technology\"]\n",
    "comm_df = sec_df.loc[sec_df[\"Sector\"] == \"Communication\"]\n",
    "staple_df = sec_df.loc[sec_df[\"Sector\"] == \"Staples\"]\n",
    "discretion_df = sec_df.loc[sec_df[\"Sector\"] == \"Discretionary\"]\n",
    "utility_df= sec_df.loc[sec_df[\"Sector\"] == \"Utilities\"]\n",
    "financial_df = sec_df.loc[sec_df[\"Sector\"] == \"Financials\"]\n",
    "material_df = sec_df.loc[sec_df[\"Sector\"] == \"Materials\"]\n",
    "restate_df = sec_df.loc[sec_df[\"Sector\"] == \"Real Estate\"]\n",
    "energy_df = sec_df.loc[sec_df[\"Sector\"] == \"Energy\"]"
   ]
  },
  {
   "cell_type": "markdown",
   "metadata": {},
   "source": [
    "## Returns DF with Cumulative Return for all Stocks"
   ]
  },
  {
   "cell_type": "code",
   "execution_count": null,
   "metadata": {},
   "outputs": [],
   "source": [
    "def get_cum_ret_for_stocks(stock_df):\n",
    "    tickers = []\n",
    "    cum_rets = []\n",
    "    for index, row in stock_df.iterrows():\n",
    "        df = get_stock_df_from_csv(row[\"Ticker\"])\n",
    "        if df is None:\n",
    "            pass \n",
    "        else:\n",
    "            tickers.append(row[\"Ticker\"])\n",
    "            cum = df[\"cum_return\"].iloc[-1]\n",
    "            cum_rets.append(cum)\n",
    "    return pd.DataFrame({\"Ticker\": tickers, \"CUM_RET\": cum_rets})"
   ]
  },
  {
   "cell_type": "code",
   "execution_count": null,
   "metadata": {},
   "outputs": [],
   "source": [
    "industrial = get_cum_ret_for_stocks(indus_df)\n",
    "health_care = get_cum_ret_for_stocks(health_df)\n",
    "it = get_cum_ret_for_stocks(it_df)\n",
    "commun = get_cum_ret_for_stocks(comm_df)\n",
    "staple = get_cum_ret_for_stocks(staple_df)\n",
    "discretion = get_cum_ret_for_stocks(discretion_df)\n",
    "utility = get_cum_ret_for_stocks(utility_df)\n",
    "finance = get_cum_ret_for_stocks(financial_df)\n",
    "material = get_cum_ret_for_stocks(material_df)\n",
    "restate = get_cum_ret_for_stocks(restate_df)\n",
    "energy = get_cum_ret_for_stocks(energy_df)\n"
   ]
  },
  {
   "cell_type": "markdown",
   "metadata": {},
   "source": [
    "## Top 10 in each Sector"
   ]
  },
  {
   "cell_type": "code",
   "execution_count": null,
   "metadata": {},
   "outputs": [],
   "source": [
    "industrial.sort_values(by=['CUM_RET'],ascending=False).head(10)"
   ]
  },
  {
   "cell_type": "code",
   "execution_count": null,
   "metadata": {},
   "outputs": [],
   "source": [
    "health_care.sort_values(by=['CUM_RET'],ascending=False).head(10)"
   ]
  },
  {
   "cell_type": "code",
   "execution_count": null,
   "metadata": {},
   "outputs": [],
   "source": [
    "it.sort_values(by=['CUM_RET'],ascending=False).head(10)"
   ]
  },
  {
   "cell_type": "code",
   "execution_count": null,
   "metadata": {},
   "outputs": [],
   "source": [
    "commun.sort_values(by=['CUM_RET'],ascending=False).head(10)"
   ]
  },
  {
   "cell_type": "code",
   "execution_count": null,
   "metadata": {},
   "outputs": [],
   "source": [
    "staple.sort_values(by=['CUM_RET'],ascending=False).head(10)"
   ]
  },
  {
   "cell_type": "code",
   "execution_count": null,
   "metadata": {},
   "outputs": [],
   "source": [
    "discretion.sort_values(by=['CUM_RET'],ascending=False).head(10)"
   ]
  },
  {
   "cell_type": "code",
   "execution_count": null,
   "metadata": {},
   "outputs": [],
   "source": [
    "utility.sort_values(by=['CUM_RET'],ascending=False).head(10)"
   ]
  },
  {
   "cell_type": "code",
   "execution_count": null,
   "metadata": {},
   "outputs": [],
   "source": [
    "finance.sort_values(by=['CUM_RET'],ascending=False).head(10)"
   ]
  },
  {
   "cell_type": "code",
   "execution_count": null,
   "metadata": {},
   "outputs": [],
   "source": [
    "material.sort_values(by=['CUM_RET'],ascending=False).head(10)"
   ]
  },
  {
   "cell_type": "code",
   "execution_count": null,
   "metadata": {},
   "outputs": [],
   "source": [
    "restate.sort_values(by=['CUM_RET'],ascending=False).head(10)"
   ]
  },
  {
   "cell_type": "code",
   "execution_count": null,
   "metadata": {},
   "outputs": [],
   "source": [
    "energy.sort_values(by=['CUM_RET'],ascending=False).head(10)"
   ]
  },
  {
   "cell_type": "markdown",
   "metadata": {},
   "source": [
    "## Use this to plot graph"
   ]
  },
  {
   "cell_type": "code",
   "execution_count": null,
   "metadata": {},
   "outputs": [],
   "source": [
    "# Run for each stock above\n",
    "df_energy = get_stock_df_from_csv(\"OAS\")\n",
    "get_Ichimoku(df_energy)"
   ]
  }
 ],
 "metadata": {
  "interpreter": {
   "hash": "86111d648a82d99ff9b0dd30c218aa29d03240e36c9a38e039482949d5672ace"
  },
  "kernelspec": {
   "display_name": "Python 3.8.12 64-bit ('invest_env': conda)",
   "language": "python",
   "name": "python3"
  },
  "language_info": {
   "codemirror_mode": {
    "name": "ipython",
    "version": 3
   },
   "file_extension": ".py",
   "mimetype": "text/x-python",
   "name": "python",
   "nbconvert_exporter": "python",
   "pygments_lexer": "ipython3",
   "version": "3.8.12"
  },
  "orig_nbformat": 4
 },
 "nbformat": 4,
 "nbformat_minor": 2
}
