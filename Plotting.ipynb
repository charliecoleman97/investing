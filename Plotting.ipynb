{
 "cells": [
  {
   "cell_type": "code",
   "execution_count": 1,
   "metadata": {},
   "outputs": [
    {
     "data": {
      "text/html": [
       "        <script type=\"text/javascript\">\n",
       "        window.PlotlyConfig = {MathJaxConfig: 'local'};\n",
       "        if (window.MathJax) {MathJax.Hub.Config({SVG: {font: \"STIX-Web\"}});}\n",
       "        if (typeof require !== 'undefined') {\n",
       "        require.undef(\"plotly\");\n",
       "        requirejs.config({\n",
       "            paths: {\n",
       "                'plotly': ['https://cdn.plot.ly/plotly-2.8.3.min']\n",
       "            }\n",
       "        });\n",
       "        require(['plotly'], function(Plotly) {\n",
       "            window._Plotly = Plotly;\n",
       "        });\n",
       "        }\n",
       "        </script>\n",
       "        "
      ]
     },
     "metadata": {},
     "output_type": "display_data"
    },
    {
     "data": {
      "text/html": [
       "        <script type=\"text/javascript\">\n",
       "        window.PlotlyConfig = {MathJaxConfig: 'local'};\n",
       "        if (window.MathJax) {MathJax.Hub.Config({SVG: {font: \"STIX-Web\"}});}\n",
       "        if (typeof require !== 'undefined') {\n",
       "        require.undef(\"plotly\");\n",
       "        requirejs.config({\n",
       "            paths: {\n",
       "                'plotly': ['https://cdn.plot.ly/plotly-2.8.3.min']\n",
       "            }\n",
       "        });\n",
       "        require(['plotly'], function(Plotly) {\n",
       "            window._Plotly = Plotly;\n",
       "        });\n",
       "        }\n",
       "        </script>\n",
       "        "
      ]
     },
     "metadata": {},
     "output_type": "display_data"
    }
   ],
   "source": [
    "# Provides ways to work with large multidimensional arrays\n",
    "import numpy as np \n",
    "# Allows for further data manipulation and analysis\n",
    "import pandas as pd \n",
    "import matplotlib.pyplot as plt # Plotting\n",
    "import matplotlib.dates as mdates # Styling dates\n",
    "%matplotlib inline\n",
    "\n",
    "# pip install numpy\n",
    "# conda install -c anaconda pandas\n",
    "# conda install -c conda-forge matplotlib\n",
    "\n",
    "import datetime as dt # For defining dates\n",
    "\n",
    "import time\n",
    "\n",
    "# In Powershell Prompt : conda install -c conda-forge multitasking\n",
    "# pip install -i https://pypi.anaconda.org/ranaroussi/simple yfinance\n",
    "\n",
    "import yfinance as yf\n",
    "\n",
    "# To show all your output File -> Preferences -> Settings Search for Notebook\n",
    "# Notebook Output Text Line Limit and set to 100\n",
    "\n",
    "# Used for file handling like deleting files\n",
    "import os\n",
    "\n",
    "# conda install -c conda-forge cufflinks-py\n",
    "# conda install -c plotly plotly\n",
    "import cufflinks as cf\n",
    "import plotly.express as px\n",
    "import plotly.graph_objects as go\n",
    "\n",
    "# Make Plotly work in your Jupyter Notebook\n",
    "from plotly.offline import download_plotlyjs, init_notebook_mode, plot, iplot\n",
    "init_notebook_mode(connected=True)\n",
    "# Use Plotly locally\n",
    "cf.go_offline()\n",
    "\n",
    "from plotly.subplots import make_subplots\n",
    "\n",
    "# New Imports\n",
    "# Used to get data from a directory\n",
    "import os\n",
    "from os import listdir\n",
    "from os.path import isfile, join\n",
    "\n",
    "import warnings\n",
    "warnings.simplefilter(\"ignore\")"
   ]
  },
  {
   "cell_type": "code",
   "execution_count": 2,
   "metadata": {},
   "outputs": [],
   "source": [
    "# Change this to your location \n",
    "import variables\n",
    "PATH = variables.stocks\n",
    "\n",
    "# Start end date defaults\n",
    "S_DATE = \"2017-02-01\"\n",
    "E_DATE = \"2022-12-06\"\n",
    "S_DATE_DT = pd.to_datetime(S_DATE)\n",
    "E_DATE_DT = pd.to_datetime(E_DATE)"
   ]
  },
  {
   "cell_type": "markdown",
   "metadata": {},
   "source": [
    "## Get Dataframe from CSV"
   ]
  },
  {
   "cell_type": "code",
   "execution_count": null,
   "metadata": {},
   "outputs": [],
   "source": [
    "# Reads a dataframe from the CSV file, changes index to date and returns it\n",
    "def get_stock_df_from_csv(ticker):\n",
    "    \n",
    "    # Try to get the file and if it doesn't exist issue a warning\n",
    "    try:\n",
    "        df = pd.read_csv(PATH + ticker + '.csv', index_col=0)\n",
    "    except FileNotFoundError:\n",
    "        print(\"File Doesn't Exist\")\n",
    "    else:\n",
    "        return df"
   ]
  },
  {
   "cell_type": "markdown",
   "metadata": {},
   "source": [
    "## Plot Bollinger Bands"
   ]
  },
  {
   "cell_type": "code",
   "execution_count": null,
   "metadata": {},
   "outputs": [],
   "source": [
    "def plot_with_boll_bands(df, ticker):\n",
    "    fig = go.Figure()\n",
    "\n",
    "    candle = go.Candlestick(x=df.index, open=df['Open'], high=df['High'], \n",
    "    low=df['Low'], close=df['Close'], name='Candlestick')\n",
    "\n",
    "    upper_line = go.Scatter(x=df.index, y=df['upper_band'], \n",
    "    line=dict(color='rgba(250, 0, 0, 0.75)', \n",
    "    width=1), name='Upper Band')\n",
    "\n",
    "    mid_line = go.Scatter(x=df.index, y=df['middle_band'], \n",
    "    line=dict(color='rgba(0, 0, 250, 0.75)', \n",
    "    width=1), name='Middle Band')\n",
    "\n",
    "    lower_line = go.Scatter(x=df.index, y=df['lower_band'], \n",
    "    line=dict(color='rgba(0, 250, 0, 0.75)', \n",
    "    width=1), name='Lower Band')\n",
    "\n",
    "    fig.add_trace(candle)\n",
    "    fig.add_trace(upper_line)\n",
    "    fig.add_trace(mid_line)\n",
    "    fig.add_trace(lower_line)\n",
    "\n",
    "    fig.update_xaxes(title=\"Date\", rangeslider_visible=True)\n",
    "    fig.update_yaxes(title=\"Price\")\n",
    "\n",
    "    fig.update_layout(title=ticker + \" Bollinger Bands\", \n",
    "    height=800, width=1700, showlegend=True)\n",
    "    fig.show()"
   ]
  },
  {
   "cell_type": "markdown",
   "metadata": {},
   "source": [
    "## Plot Ichimoku"
   ]
  },
  {
   "cell_type": "code",
   "execution_count": null,
   "metadata": {},
   "outputs": [],
   "source": [
    "# Used to generate the red and green fill for the Ichimoku cloud\n",
    "def get_fill_color(label):\n",
    "    if label >= 1:\n",
    "        return 'rgba(0,250,0,0.4)'\n",
    "    else:\n",
    "        return 'rgba(250,0,0,0.4)'"
   ]
  },
  {
   "cell_type": "code",
   "execution_count": null,
   "metadata": {},
   "outputs": [],
   "source": [
    "def get_Ichimoku(df):\n",
    "\n",
    "    candle = go.Candlestick(x=df.index, open=df['Open'],\n",
    "    high=df['High'], low=df[\"Low\"], close=df['Close'], name=\"Candlestick\")\n",
    "\n",
    "    df1 = df.copy()\n",
    "    fig = go.Figure()\n",
    "    df['label'] = np.where(df['SpanA'] > df['SpanB'], 1, 0)\n",
    "    df['group'] = df['label'].ne(df['label'].shift()).cumsum()\n",
    "\n",
    "    df = df.groupby('group')\n",
    "\n",
    "    dfs = []\n",
    "    for name, data in df:\n",
    "        dfs.append(data)\n",
    "\n",
    "    for df in dfs:\n",
    "        fig.add_traces(go.Scatter(x=df.index, y=df.SpanA,\n",
    "        line=dict(color='rgba(0,0,0,0)')))\n",
    "\n",
    "        fig.add_traces(go.Scatter(x=df.index, y=df.SpanB,\n",
    "        line=dict(color='rgba(0,0,0,0)'),\n",
    "        fill='tonexty',\n",
    "        fillcolor=get_fill_color(df['label'].iloc[0])))\n",
    "\n",
    "    baseline = go.Scatter(x=df1.index, y=df1['Baseline'], \n",
    "    line=dict(color='pink', width=2), name=\"Baseline\")\n",
    "\n",
    "    conversion = go.Scatter(x=df1.index, y=df1['Conversion'], \n",
    "    line=dict(color='black', width=1), name=\"Conversion\")\n",
    "\n",
    "    lagging = go.Scatter(x=df1.index, y=df1['Lagging'], \n",
    "    line=dict(color='purple', width=2), name=\"Lagging\")\n",
    "\n",
    "    span_a = go.Scatter(x=df1.index, y=df1['SpanA'], \n",
    "    line=dict(color='green', width=2, dash='dot'), name=\"Span A\")\n",
    "\n",
    "    span_b = go.Scatter(x=df1.index, y=df1['SpanB'], \n",
    "    line=dict(color='red', width=2, dash='dot'), name=\"Span B\")\n",
    "\n",
    "    fig.add_trace(candle)\n",
    "    fig.add_trace(baseline)\n",
    "    fig.add_trace(conversion)\n",
    "    fig.add_trace(lagging)\n",
    "    fig.add_trace(span_a)\n",
    "    fig.add_trace(span_b)\n",
    "    \n",
    "    fig.update_layout(height=800, width=1700, showlegend=True)\n",
    "\n",
    "    fig.show()"
   ]
  },
  {
   "cell_type": "markdown",
   "metadata": {},
   "source": [
    "## Plots"
   ]
  },
  {
   "cell_type": "markdown",
   "metadata": {},
   "source": [
    "The Ichimoku (One Look) is considered an all in one indicator. It provides information on momentum, support and resistance. It is made up of 5 lines. If you are a short term trader you create 1 minute or 6 hour. Long term traders focus on day or weekly data.\n",
    "\n",
    " - Conversion Line (Tenkan-sen) : Represents support, resistance and reversals. Used to measure short term trends.\n",
    " - Baseline (Kijun-sen) : Represents support, resistance and confirms trend changes. Allows you to evaluate the strength of medium term trends. Called the baseline because it lags the price.\n",
    " - Leading Span A (Senkou A) : Used to identify future areas of support and resistance\n",
    " - Leading Span B (Senkou B) : Other line used to identify suture support and resistance\n",
    " - Lagging Span (Chikou) : Shows possible support and resistance. It is used to confirm signals obtained from other lines.\n",
    " - Cloud (Kumo) : Space between Span A and B. Represents the divergence in price evolution.\n",
    " \n",
    "Formulas\n",
    "\n",
    " - Lagging Span = Price shifted back 26 periods\n",
    " - Base Line = (Highest Value in period + Lowest value in period)/2 (26 Sessions)\n",
    " - Conversion Line = (Highest Value in period + Lowest value in period)/2 (9 Sessions)\n",
    " - Leading Span A = (Conversion Value + Base Value)/2 (26 Sessions)\n",
    " - Leading Span B = (Conversion Value + Base Value)/2 (52 Sessions)"
   ]
  },
  {
   "cell_type": "code",
   "execution_count": null,
   "metadata": {},
   "outputs": [],
   "source": [
    "test_df = get_stock_df_from_csv(\"INTC\")\n",
    "get_Ichimoku(test_df)"
   ]
  }
 ],
 "metadata": {
  "interpreter": {
   "hash": "86111d648a82d99ff9b0dd30c218aa29d03240e36c9a38e039482949d5672ace"
  },
  "kernelspec": {
   "display_name": "Python 3.8.12 64-bit ('invest_env': conda)",
   "language": "python",
   "name": "python3"
  },
  "language_info": {
   "codemirror_mode": {
    "name": "ipython",
    "version": 3
   },
   "file_extension": ".py",
   "mimetype": "text/x-python",
   "name": "python",
   "nbconvert_exporter": "python",
   "pygments_lexer": "ipython3",
   "version": "3.8.12"
  },
  "orig_nbformat": 4
 },
 "nbformat": 4,
 "nbformat_minor": 2
}
