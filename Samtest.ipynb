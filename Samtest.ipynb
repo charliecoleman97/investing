{
 "cells": [
  {
   "cell_type": "code",
   "execution_count": 2,
   "metadata": {},
   "outputs": [
    {
     "name": "stdout",
     "output_type": "stream",
     "text": [
      "Hello Charlie\n"
     ]
    }
   ],
   "source": [
    "print(\"Hello Charlie\")"
   ]
  }
 ],
 "metadata": {
  "interpreter": {
   "hash": "f293a1ce9d83ba8b0704f6832c92e96be2ac23f8569cabaa9092ae9387c9f41f"
  },
  "kernelspec": {
   "display_name": "Python 3.9.7 ('base')",
   "language": "python",
   "name": "python3"
  },
  "language_info": {
   "codemirror_mode": {
    "name": "ipython",
    "version": 2
   },
   "file_extension": ".py",
   "mimetype": "text/x-python",
   "name": "python",
   "nbconvert_exporter": "python",
   "pygments_lexer": "ipython2",
   "version": "2.7.15"
  },
  "orig_nbformat": 4
 },
 "nbformat": 4,
 "nbformat_minor": 2
}
