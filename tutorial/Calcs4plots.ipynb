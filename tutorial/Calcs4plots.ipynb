{
 "cells": [
  {
   "cell_type": "code",
   "execution_count": 97,
   "metadata": {},
   "outputs": [
    {
     "data": {
      "text/html": [
       "        <script type=\"text/javascript\">\n",
       "        window.PlotlyConfig = {MathJaxConfig: 'local'};\n",
       "        if (window.MathJax) {MathJax.Hub.Config({SVG: {font: \"STIX-Web\"}});}\n",
       "        if (typeof require !== 'undefined') {\n",
       "        require.undef(\"plotly\");\n",
       "        requirejs.config({\n",
       "            paths: {\n",
       "                'plotly': ['https://cdn.plot.ly/plotly-2.9.0.min']\n",
       "            }\n",
       "        });\n",
       "        require(['plotly'], function(Plotly) {\n",
       "            window._Plotly = Plotly;\n",
       "        });\n",
       "        }\n",
       "        </script>\n",
       "        "
      ]
     },
     "metadata": {},
     "output_type": "display_data"
    },
    {
     "data": {
      "text/html": [
       "        <script type=\"text/javascript\">\n",
       "        window.PlotlyConfig = {MathJaxConfig: 'local'};\n",
       "        if (window.MathJax) {MathJax.Hub.Config({SVG: {font: \"STIX-Web\"}});}\n",
       "        if (typeof require !== 'undefined') {\n",
       "        require.undef(\"plotly\");\n",
       "        requirejs.config({\n",
       "            paths: {\n",
       "                'plotly': ['https://cdn.plot.ly/plotly-2.9.0.min']\n",
       "            }\n",
       "        });\n",
       "        require(['plotly'], function(Plotly) {\n",
       "            window._Plotly = Plotly;\n",
       "        });\n",
       "        }\n",
       "        </script>\n",
       "        "
      ]
     },
     "metadata": {},
     "output_type": "display_data"
    }
   ],
   "source": [
    "import numpy as np \n",
    "# Allows for further data manipulation and analysis\n",
    "import pandas as pd \n",
    "import matplotlib.pyplot as plt # Plotting\n",
    "import matplotlib.dates as mdates # Styling dates\n",
    "%matplotlib inline\n",
    "\n",
    "# pip install numpy\n",
    "# conda install -c anaconda pandas\n",
    "# conda install -c conda-forge matplotlib\n",
    "\n",
    "import datetime as dt # For defining dates\n",
    "\n",
    "import time\n",
    "\n",
    "# In Powershell Prompt : conda install -c conda-forge multitasking\n",
    "# pip install -i https://pypi.anaconda.org/ranaroussi/simple yfinance\n",
    "\n",
    "import yfinance as yf\n",
    "\n",
    "# To show all your output File -> Preferences -> Settings Search for Notebook\n",
    "# Notebook Output Text Line Limit and set to 100\n",
    "\n",
    "# Used for file handling like deleting files\n",
    "import os\n",
    "\n",
    "# conda install -c conda-forge cufflinks-py\n",
    "# conda install -c plotly plotly\n",
    "import cufflinks as cf\n",
    "import plotly.express as px\n",
    "import plotly.graph_objects as go\n",
    "\n",
    "# Make Plotly work in your Jupyter Notebook\n",
    "from plotly.offline import download_plotlyjs, init_notebook_mode, plot, iplot\n",
    "init_notebook_mode(connected=True)\n",
    "# Use Plotly locally\n",
    "cf.go_offline()\n",
    "\n",
    "from plotly.subplots import make_subplots\n",
    "\n",
    "# New Imports\n",
    "# Used to get data from a directory\n",
    "import os\n",
    "from os import listdir\n",
    "from os.path import isfile, join\n",
    "\n",
    "import warnings\n",
    "warnings.simplefilter(\"ignore\")\n",
    "\n"
   ]
  },
  {
   "cell_type": "markdown",
   "metadata": {},
   "source": [
    "# constants"
   ]
  },
  {
   "cell_type": "code",
   "execution_count": 98,
   "metadata": {},
   "outputs": [],
   "source": [
    "PATH = r\"/Users/sammurray/Documents/stonks/\"\n",
    "\n",
    "S_DATE = \"2017-02-01\"\n",
    "E_DATE = \"2022-12-06\"\n",
    "S_DATE_DT = pd.to_datetime(S_DATE)\n",
    "E_DATE_DT = pd.to_datetime(E_DATE)"
   ]
  },
  {
   "cell_type": "code",
   "execution_count": 99,
   "metadata": {},
   "outputs": [],
   "source": [
    "def get_stock_df_from_csv(ticker):\n",
    "    try:\n",
    "        df = pd.read_csv(PATH + ticker + \".csv\", index_col=0)\n",
    "    except FileNotFoundError:\n",
    "        print(\"File is not here\" )\n",
    "        print('Expected file: ' + PATH + ticker + \".csv\")\n",
    "    else: \n",
    "        return df "
   ]
  },
  {
   "cell_type": "code",
   "execution_count": 100,
   "metadata": {},
   "outputs": [
    {
     "data": {
      "text/plain": [
       "3262"
      ]
     },
     "execution_count": 100,
     "metadata": {},
     "output_type": "execute_result"
    }
   ],
   "source": [
    "files = [x for x in os.listdir(PATH) if os.path.isfile(os.path.join(PATH, x))]\n",
    "tickers = [os.path.splitext(x)[0] for x in files]\n",
    "# tickers.remove('.ds_Store')\n",
    "\n",
    "tickers.sort()\n",
    "len(tickers)\n"
   ]
  },
  {
   "cell_type": "markdown",
   "metadata": {},
   "source": [
    "# Add daily returns"
   ]
  },
  {
   "cell_type": "code",
   "execution_count": 101,
   "metadata": {},
   "outputs": [],
   "source": [
    "def add_daily_return_to_df(df):\n",
    "    df['daily_return'] = (df['Close'] / df['Close'].shift(1)) - 1\n",
    "    # Save data to a CSV file\n",
    "    # df.to_csv(PATH + ticker + '.csv')\n",
    "    return df"
   ]
  },
  {
   "cell_type": "markdown",
   "metadata": {},
   "source": [
    "# add cumulative return"
   ]
  },
  {
   "cell_type": "code",
   "execution_count": 102,
   "metadata": {},
   "outputs": [],
   "source": [
    "def add_cum_return_to_df(df):\n",
    "    df['cum_return'] = (1 + df['daily_return']).cumprod()\n",
    "    # df.to_csv(PATH + ticker + '.csv')\n",
    "    return df\n"
   ]
  },
  {
   "cell_type": "markdown",
   "metadata": {},
   "source": [
    "# Add Bolinger Bands"
   ]
  },
  {
   "cell_type": "code",
   "execution_count": 103,
   "metadata": {},
   "outputs": [],
   "source": [
    "def add_bollinger_bands(df):\n",
    "    df['middle_band'] = df['Close'].rolling(window=20).mean()\n",
    "    df['upper_band'] = df['middle_band'] + 1.96 * df['Close'].rolling(window=20).std()\n",
    "    df['lower_band'] = df['middle_band'] - 1.96 * df['Close'].rolling(window=20).std()\n",
    "    # df.to_csv(PATH + ticker + '.csv')\n",
    "    return df"
   ]
  },
  {
   "cell_type": "markdown",
   "metadata": {},
   "source": [
    "# Add ichimoku data to data frame (dope technical analysis tool)"
   ]
  },
  {
   "cell_type": "code",
   "execution_count": 104,
   "metadata": {},
   "outputs": [],
   "source": [
    "def add_ichimoku(df):\n",
    "    # conversion line (9 sessions)\n",
    "    hi_val = df['High'].rolling(window=9).max()\n",
    "    low_val = df['Low'].rolling(window=9).min()\n",
    "    df['conversion'] = (hi_val + low_val) / 2\n",
    "\n",
    "    # baseline (26 sessions)\n",
    "    hi_val2 = df['High'].rolling(window=26).max()\n",
    "    low_val2 = df['Low'].rolling(window=26).min()\n",
    "    df['baseline'] = (hi_val2 + low_val2) / 2\n",
    "\n",
    "    # Span A (26 sessions)\n",
    "    df['SpanA'] = ((df['conversion'] + df['baseline']) /2)\n",
    "\n",
    "    # Span B (52 sessions)\n",
    "    hi_val3 = df['High'].rolling(window=52).max()\n",
    "    low_val3 = df['Low'].rolling(window=52).min()\n",
    "\n",
    "    df['SpanB'] = ((hi_val3 + low_val3) / 2).shift(26)\n",
    "\n",
    "    # Lagging Span\n",
    "    df['Lagging'] = df['Close'].shift(26)\n",
    "    return df"
   ]
  },
  {
   "cell_type": "markdown",
   "metadata": {},
   "source": [
    "# Add daily cumulative Bollinger bands and Ichimoku data frames"
   ]
  },
  {
   "cell_type": "code",
   "execution_count": 105,
   "metadata": {},
   "outputs": [],
   "source": [
    "#for x in tickers:\n",
    "#    try:\n",
    " #      print(\"working on :\", x)\n",
    "  #      new_df = get_stock_df_from_csv(x)\n",
    "   #     new_df = add_daily_return_to_df(new_df)\n",
    "    #    new_df = add_cum_return_to_df(new_df)\n",
    "     #   new_df = add_bollinger_bands(new_df)\n",
    "      #  new_df = add_Ichimoku(new_df)\n",
    "       # new_df.to_csv(PATH + 'A' + '.csv')\n",
    "    #except Exception as ex:\n",
    "        #print(ex)\n",
    "        # print(f'{count}/{len(tickers)}')\n",
    "\n"
   ]
  },
  {
   "cell_type": "code",
   "execution_count": 106,
   "metadata": {},
   "outputs": [],
   "source": [
    "def plot_with_boll_bands(df, ticker):\n",
    "    fig = go.Figure()\n",
    "\n",
    "    candle = go.Candlestick(x=df.index, open=df['Open'], high=df['High'], \n",
    "    low=df['Low'], close=df['Close'], name='Candlestick')\n",
    "\n",
    "    upper_line = go.Scatter(x=df.index, y=df['upper_band'], \n",
    "    line=dict(color='rgba(250, 0, 0, 0.75)', \n",
    "    width=1), name='Upper Band')\n",
    "\n",
    "    mid_line = go.Scatter(x=df.index, y=df['middle_band'], \n",
    "    line=dict(color='rgba(0, 0, 250, 0.75)', \n",
    "    width=1), name='Middle Band')\n",
    "\n",
    "    lower_line = go.Scatter(x=df.index, y=df['lower_band'], \n",
    "    line=dict(color='rgba(0, 250, 0, 0.75)', \n",
    "    width=1), name='Lower Band')\n",
    "\n",
    "    fig.add_trace(candle)\n",
    "    fig.add_trace(upper_line)\n",
    "    fig.add_trace(mid_line)\n",
    "    fig.add_trace(lower_line)\n",
    "\n",
    "    fig.update_xaxes(title=\"Date\", rangeslider_visible=True)\n",
    "    fig.update_yaxes(title=\"Price\")\n",
    "\n",
    "    fig.update_layout(title=ticker + \" Bollinger Bands\", \n",
    "    height=800, width=1700, showlegend=True)\n",
    "    fig.show()"
   ]
  },
  {
   "cell_type": "markdown",
   "metadata": {},
   "source": [
    "# Plot bollinger"
   ]
  },
  {
   "cell_type": "code",
   "execution_count": 107,
   "metadata": {},
   "outputs": [
    {
     "ename": "KeyError",
     "evalue": "'upper_band'",
     "output_type": "error",
     "traceback": [
      "\u001b[0;31m---------------------------------------------------------------------------\u001b[0m",
      "\u001b[0;31mKeyError\u001b[0m                                  Traceback (most recent call last)",
      "File \u001b[0;32m~/opt/anaconda3/envs/invest_env/lib/python3.8/site-packages/pandas/core/indexes/base.py:3621\u001b[0m, in \u001b[0;36mIndex.get_loc\u001b[0;34m(self, key, method, tolerance)\u001b[0m\n\u001b[1;32m   <a href='file:///~/opt/anaconda3/envs/invest_env/lib/python3.8/site-packages/pandas/core/indexes/base.py?line=3619'>3620</a>\u001b[0m \u001b[39mtry\u001b[39;00m:\n\u001b[0;32m-> <a href='file:///~/opt/anaconda3/envs/invest_env/lib/python3.8/site-packages/pandas/core/indexes/base.py?line=3620'>3621</a>\u001b[0m     \u001b[39mreturn\u001b[39;00m \u001b[39mself\u001b[39;49m\u001b[39m.\u001b[39;49m_engine\u001b[39m.\u001b[39;49mget_loc(casted_key)\n\u001b[1;32m   <a href='file:///~/opt/anaconda3/envs/invest_env/lib/python3.8/site-packages/pandas/core/indexes/base.py?line=3621'>3622</a>\u001b[0m \u001b[39mexcept\u001b[39;00m \u001b[39mKeyError\u001b[39;00m \u001b[39mas\u001b[39;00m err:\n",
      "File \u001b[0;32m~/opt/anaconda3/envs/invest_env/lib/python3.8/site-packages/pandas/_libs/index.pyx:136\u001b[0m, in \u001b[0;36mpandas._libs.index.IndexEngine.get_loc\u001b[0;34m()\u001b[0m\n",
      "File \u001b[0;32m~/opt/anaconda3/envs/invest_env/lib/python3.8/site-packages/pandas/_libs/index.pyx:163\u001b[0m, in \u001b[0;36mpandas._libs.index.IndexEngine.get_loc\u001b[0;34m()\u001b[0m\n",
      "File \u001b[0;32mpandas/_libs/hashtable_class_helper.pxi:5198\u001b[0m, in \u001b[0;36mpandas._libs.hashtable.PyObjectHashTable.get_item\u001b[0;34m()\u001b[0m\n",
      "File \u001b[0;32mpandas/_libs/hashtable_class_helper.pxi:5206\u001b[0m, in \u001b[0;36mpandas._libs.hashtable.PyObjectHashTable.get_item\u001b[0;34m()\u001b[0m\n",
      "\u001b[0;31mKeyError\u001b[0m: 'upper_band'",
      "\nThe above exception was the direct cause of the following exception:\n",
      "\u001b[0;31mKeyError\u001b[0m                                  Traceback (most recent call last)",
      "\u001b[1;32m/Users/sammurray/Documents/GitHub/investing/tutorial/Calcs4plots.ipynb Cell 18'\u001b[0m in \u001b[0;36m<module>\u001b[0;34m\u001b[0m\n\u001b[1;32m      <a href='vscode-notebook-cell:/Users/sammurray/Documents/GitHub/investing/tutorial/Calcs4plots.ipynb#ch0000015?line=0'>1</a>\u001b[0m test_df \u001b[39m=\u001b[39m get_stock_df_from_csv(\u001b[39m\"\u001b[39m\u001b[39mAMD\u001b[39m\u001b[39m\"\u001b[39m)\n\u001b[0;32m----> <a href='vscode-notebook-cell:/Users/sammurray/Documents/GitHub/investing/tutorial/Calcs4plots.ipynb#ch0000015?line=1'>2</a>\u001b[0m plot_with_boll_bands(test_df, \u001b[39m\"\u001b[39;49m\u001b[39mAMD\u001b[39;49m\u001b[39m\"\u001b[39;49m)\n",
      "\u001b[1;32m/Users/sammurray/Documents/GitHub/investing/tutorial/Calcs4plots.ipynb Cell 16'\u001b[0m in \u001b[0;36mplot_with_boll_bands\u001b[0;34m(df, ticker)\u001b[0m\n\u001b[1;32m      <a href='vscode-notebook-cell:/Users/sammurray/Documents/GitHub/investing/tutorial/Calcs4plots.ipynb#ch0000014?line=1'>2</a>\u001b[0m fig \u001b[39m=\u001b[39m go\u001b[39m.\u001b[39mFigure()\n\u001b[1;32m      <a href='vscode-notebook-cell:/Users/sammurray/Documents/GitHub/investing/tutorial/Calcs4plots.ipynb#ch0000014?line=3'>4</a>\u001b[0m candle \u001b[39m=\u001b[39m go\u001b[39m.\u001b[39mCandlestick(x\u001b[39m=\u001b[39mdf\u001b[39m.\u001b[39mindex, \u001b[39mopen\u001b[39m\u001b[39m=\u001b[39mdf[\u001b[39m'\u001b[39m\u001b[39mOpen\u001b[39m\u001b[39m'\u001b[39m], high\u001b[39m=\u001b[39mdf[\u001b[39m'\u001b[39m\u001b[39mHigh\u001b[39m\u001b[39m'\u001b[39m], \n\u001b[1;32m      <a href='vscode-notebook-cell:/Users/sammurray/Documents/GitHub/investing/tutorial/Calcs4plots.ipynb#ch0000014?line=4'>5</a>\u001b[0m low\u001b[39m=\u001b[39mdf[\u001b[39m'\u001b[39m\u001b[39mLow\u001b[39m\u001b[39m'\u001b[39m], close\u001b[39m=\u001b[39mdf[\u001b[39m'\u001b[39m\u001b[39mClose\u001b[39m\u001b[39m'\u001b[39m], name\u001b[39m=\u001b[39m\u001b[39m'\u001b[39m\u001b[39mCandlestick\u001b[39m\u001b[39m'\u001b[39m)\n\u001b[0;32m----> <a href='vscode-notebook-cell:/Users/sammurray/Documents/GitHub/investing/tutorial/Calcs4plots.ipynb#ch0000014?line=6'>7</a>\u001b[0m upper_line \u001b[39m=\u001b[39m go\u001b[39m.\u001b[39mScatter(x\u001b[39m=\u001b[39mdf\u001b[39m.\u001b[39mindex, y\u001b[39m=\u001b[39mdf[\u001b[39m'\u001b[39;49m\u001b[39mupper_band\u001b[39;49m\u001b[39m'\u001b[39;49m], \n\u001b[1;32m      <a href='vscode-notebook-cell:/Users/sammurray/Documents/GitHub/investing/tutorial/Calcs4plots.ipynb#ch0000014?line=7'>8</a>\u001b[0m line\u001b[39m=\u001b[39m\u001b[39mdict\u001b[39m(color\u001b[39m=\u001b[39m\u001b[39m'\u001b[39m\u001b[39mrgba(250, 0, 0, 0.75)\u001b[39m\u001b[39m'\u001b[39m, \n\u001b[1;32m      <a href='vscode-notebook-cell:/Users/sammurray/Documents/GitHub/investing/tutorial/Calcs4plots.ipynb#ch0000014?line=8'>9</a>\u001b[0m width\u001b[39m=\u001b[39m\u001b[39m1\u001b[39m), name\u001b[39m=\u001b[39m\u001b[39m'\u001b[39m\u001b[39mUpper Band\u001b[39m\u001b[39m'\u001b[39m)\n\u001b[1;32m     <a href='vscode-notebook-cell:/Users/sammurray/Documents/GitHub/investing/tutorial/Calcs4plots.ipynb#ch0000014?line=10'>11</a>\u001b[0m mid_line \u001b[39m=\u001b[39m go\u001b[39m.\u001b[39mScatter(x\u001b[39m=\u001b[39mdf\u001b[39m.\u001b[39mindex, y\u001b[39m=\u001b[39mdf[\u001b[39m'\u001b[39m\u001b[39mmiddle_band\u001b[39m\u001b[39m'\u001b[39m], \n\u001b[1;32m     <a href='vscode-notebook-cell:/Users/sammurray/Documents/GitHub/investing/tutorial/Calcs4plots.ipynb#ch0000014?line=11'>12</a>\u001b[0m line\u001b[39m=\u001b[39m\u001b[39mdict\u001b[39m(color\u001b[39m=\u001b[39m\u001b[39m'\u001b[39m\u001b[39mrgba(0, 0, 250, 0.75)\u001b[39m\u001b[39m'\u001b[39m, \n\u001b[1;32m     <a href='vscode-notebook-cell:/Users/sammurray/Documents/GitHub/investing/tutorial/Calcs4plots.ipynb#ch0000014?line=12'>13</a>\u001b[0m width\u001b[39m=\u001b[39m\u001b[39m1\u001b[39m), name\u001b[39m=\u001b[39m\u001b[39m'\u001b[39m\u001b[39mMiddle Band\u001b[39m\u001b[39m'\u001b[39m)\n\u001b[1;32m     <a href='vscode-notebook-cell:/Users/sammurray/Documents/GitHub/investing/tutorial/Calcs4plots.ipynb#ch0000014?line=14'>15</a>\u001b[0m lower_line \u001b[39m=\u001b[39m go\u001b[39m.\u001b[39mScatter(x\u001b[39m=\u001b[39mdf\u001b[39m.\u001b[39mindex, y\u001b[39m=\u001b[39mdf[\u001b[39m'\u001b[39m\u001b[39mlower_band\u001b[39m\u001b[39m'\u001b[39m], \n\u001b[1;32m     <a href='vscode-notebook-cell:/Users/sammurray/Documents/GitHub/investing/tutorial/Calcs4plots.ipynb#ch0000014?line=15'>16</a>\u001b[0m line\u001b[39m=\u001b[39m\u001b[39mdict\u001b[39m(color\u001b[39m=\u001b[39m\u001b[39m'\u001b[39m\u001b[39mrgba(0, 250, 0, 0.75)\u001b[39m\u001b[39m'\u001b[39m, \n\u001b[1;32m     <a href='vscode-notebook-cell:/Users/sammurray/Documents/GitHub/investing/tutorial/Calcs4plots.ipynb#ch0000014?line=16'>17</a>\u001b[0m width\u001b[39m=\u001b[39m\u001b[39m1\u001b[39m), name\u001b[39m=\u001b[39m\u001b[39m'\u001b[39m\u001b[39mLower Band\u001b[39m\u001b[39m'\u001b[39m)\n",
      "File \u001b[0;32m~/opt/anaconda3/envs/invest_env/lib/python3.8/site-packages/pandas/core/frame.py:3506\u001b[0m, in \u001b[0;36mDataFrame.__getitem__\u001b[0;34m(self, key)\u001b[0m\n\u001b[1;32m   <a href='file:///~/opt/anaconda3/envs/invest_env/lib/python3.8/site-packages/pandas/core/frame.py?line=3503'>3504</a>\u001b[0m \u001b[39mif\u001b[39;00m \u001b[39mself\u001b[39m\u001b[39m.\u001b[39mcolumns\u001b[39m.\u001b[39mnlevels \u001b[39m>\u001b[39m \u001b[39m1\u001b[39m:\n\u001b[1;32m   <a href='file:///~/opt/anaconda3/envs/invest_env/lib/python3.8/site-packages/pandas/core/frame.py?line=3504'>3505</a>\u001b[0m     \u001b[39mreturn\u001b[39;00m \u001b[39mself\u001b[39m\u001b[39m.\u001b[39m_getitem_multilevel(key)\n\u001b[0;32m-> <a href='file:///~/opt/anaconda3/envs/invest_env/lib/python3.8/site-packages/pandas/core/frame.py?line=3505'>3506</a>\u001b[0m indexer \u001b[39m=\u001b[39m \u001b[39mself\u001b[39;49m\u001b[39m.\u001b[39;49mcolumns\u001b[39m.\u001b[39;49mget_loc(key)\n\u001b[1;32m   <a href='file:///~/opt/anaconda3/envs/invest_env/lib/python3.8/site-packages/pandas/core/frame.py?line=3506'>3507</a>\u001b[0m \u001b[39mif\u001b[39;00m is_integer(indexer):\n\u001b[1;32m   <a href='file:///~/opt/anaconda3/envs/invest_env/lib/python3.8/site-packages/pandas/core/frame.py?line=3507'>3508</a>\u001b[0m     indexer \u001b[39m=\u001b[39m [indexer]\n",
      "File \u001b[0;32m~/opt/anaconda3/envs/invest_env/lib/python3.8/site-packages/pandas/core/indexes/base.py:3623\u001b[0m, in \u001b[0;36mIndex.get_loc\u001b[0;34m(self, key, method, tolerance)\u001b[0m\n\u001b[1;32m   <a href='file:///~/opt/anaconda3/envs/invest_env/lib/python3.8/site-packages/pandas/core/indexes/base.py?line=3620'>3621</a>\u001b[0m     \u001b[39mreturn\u001b[39;00m \u001b[39mself\u001b[39m\u001b[39m.\u001b[39m_engine\u001b[39m.\u001b[39mget_loc(casted_key)\n\u001b[1;32m   <a href='file:///~/opt/anaconda3/envs/invest_env/lib/python3.8/site-packages/pandas/core/indexes/base.py?line=3621'>3622</a>\u001b[0m \u001b[39mexcept\u001b[39;00m \u001b[39mKeyError\u001b[39;00m \u001b[39mas\u001b[39;00m err:\n\u001b[0;32m-> <a href='file:///~/opt/anaconda3/envs/invest_env/lib/python3.8/site-packages/pandas/core/indexes/base.py?line=3622'>3623</a>\u001b[0m     \u001b[39mraise\u001b[39;00m \u001b[39mKeyError\u001b[39;00m(key) \u001b[39mfrom\u001b[39;00m \u001b[39merr\u001b[39;00m\n\u001b[1;32m   <a href='file:///~/opt/anaconda3/envs/invest_env/lib/python3.8/site-packages/pandas/core/indexes/base.py?line=3623'>3624</a>\u001b[0m \u001b[39mexcept\u001b[39;00m \u001b[39mTypeError\u001b[39;00m:\n\u001b[1;32m   <a href='file:///~/opt/anaconda3/envs/invest_env/lib/python3.8/site-packages/pandas/core/indexes/base.py?line=3624'>3625</a>\u001b[0m     \u001b[39m# If we have a listlike key, _check_indexing_error will raise\u001b[39;00m\n\u001b[1;32m   <a href='file:///~/opt/anaconda3/envs/invest_env/lib/python3.8/site-packages/pandas/core/indexes/base.py?line=3625'>3626</a>\u001b[0m     \u001b[39m#  InvalidIndexError. Otherwise we fall through and re-raise\u001b[39;00m\n\u001b[1;32m   <a href='file:///~/opt/anaconda3/envs/invest_env/lib/python3.8/site-packages/pandas/core/indexes/base.py?line=3626'>3627</a>\u001b[0m     \u001b[39m#  the TypeError.\u001b[39;00m\n\u001b[1;32m   <a href='file:///~/opt/anaconda3/envs/invest_env/lib/python3.8/site-packages/pandas/core/indexes/base.py?line=3627'>3628</a>\u001b[0m     \u001b[39mself\u001b[39m\u001b[39m.\u001b[39m_check_indexing_error(key)\n",
      "\u001b[0;31mKeyError\u001b[0m: 'upper_band'"
     ]
    }
   ],
   "source": [
    "test_df = get_stock_df_from_csv(\"AMD\")\n",
    "plot_with_boll_bands(test_df, \"AMD\")"
   ]
  }
 ],
 "metadata": {
  "interpreter": {
   "hash": "f293a1ce9d83ba8b0704f6832c92e96be2ac23f8569cabaa9092ae9387c9f41f"
  },
  "kernelspec": {
   "display_name": "Python 3.9.7 ('base')",
   "language": "python",
   "name": "python3"
  },
  "language_info": {
   "codemirror_mode": {
    "name": "ipython",
    "version": 3
   },
   "file_extension": ".py",
   "mimetype": "text/x-python",
   "name": "python",
   "nbconvert_exporter": "python",
   "pygments_lexer": "ipython3",
   "version": "3.8.12"
  },
  "orig_nbformat": 4
 },
 "nbformat": 4,
 "nbformat_minor": 2
}
